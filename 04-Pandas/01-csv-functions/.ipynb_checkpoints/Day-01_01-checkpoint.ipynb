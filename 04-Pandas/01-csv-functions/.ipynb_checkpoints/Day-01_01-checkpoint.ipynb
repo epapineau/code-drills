{
 "cells": [
  {
   "cell_type": "code",
   "execution_count": 4,
   "metadata": {},
   "outputs": [
    {
     "name": "stdout",
     "output_type": "stream",
     "text": [
      "Current info: 1: Hello World\n",
      "Previous Info: 2: Look at all the Pandas\n"
     ]
    }
   ],
   "source": [
    "# import the random module\n",
    "# import the module os\n",
    "# import the module csv\n",
    "import random\n",
    "import os\n",
    "import csv\n",
    "\n",
    "# ---- Defining a function with 2 inputs --------\n",
    "# Define a function called print_info that takes in two variables \"row\" and \"phrase\"\n",
    "# and prints the string \"Current info\" along with the values of \"row\" and \"phrase\". \n",
    "# For example, if we call the function:\n",
    "# print_info(\"1\", \"Hello World\")\n",
    "# should print\n",
    "# Current info: 1: Hello World\n",
    "def print_info (row, phrase):\n",
    "    print(f\"Current info: {row}: {phrase}\")\n",
    "print_info(\"1\", \"Hello World\")\n",
    "\n",
    "# ---- Defining a function with 2 inputs --------\n",
    "# Define a function called print_prev_info that takes in two variables \"row\" and \"phrase\"\n",
    "# and prints the string \"Previous info\" along with the values of \"row\" and \"phrase\". \n",
    "# For example, if we call the function:\n",
    "# print_prev_info(\"2\", \"Look at all the Pandas\")\n",
    "# should print\n",
    "# Previous info: 2: Look at all the Pandas\n",
    "def print_prev_info(row, phrase):\n",
    "    print(f\"Previous Info: {row}: {phrase}\")\n",
    "    \n",
    "print_prev_info(\"2\", \"Look at all the Pandas\")"
   ]
  },
  {
   "cell_type": "code",
   "execution_count": 26,
   "metadata": {},
   "outputs": [
    {
     "data": {
      "text/plain": [
       "17"
      ]
     },
     "execution_count": 26,
     "metadata": {},
     "output_type": "execute_result"
    }
   ],
   "source": [
    "# ------ Random row selection. --------\n",
    "# Declare a variable called \"random_row\" and \n",
    "# set it equal a random integer between 1-75\n",
    "\n",
    "random_row = random.randint(1, 76)\n",
    "random_row"
   ]
  },
  {
   "cell_type": "code",
   "execution_count": 12,
   "metadata": {},
   "outputs": [],
   "source": [
    "# Declare boolean variable that tracks whether we've found a matching row. Set it to False initially.\n",
    "var = False"
   ]
  },
  {
   "cell_type": "code",
   "execution_count": 18,
   "metadata": {},
   "outputs": [
    {
     "data": {
      "text/plain": [
       "'Resources\\\\Phrases.csv'"
      ]
     },
     "execution_count": 18,
     "metadata": {},
     "output_type": "execute_result"
    }
   ],
   "source": [
    "# Declare variable csvpath and set it to be the path to the Phrases.csv file in the Resources folder\n",
    "csv_path = os.path.join('Resources', 'Phrases.csv')\n",
    "csv_path"
   ]
  },
  {
   "cell_type": "code",
   "execution_count": 31,
   "metadata": {},
   "outputs": [
    {
     "name": "stdout",
     "output_type": "stream",
     "text": [
      "Current info: 17: I like ice cream.\n",
      "Previous Info: 16: I like candy.\n"
     ]
    }
   ],
   "source": [
    "# Use the path we just defined to open Phrases.csv\n",
    "with open(csv_path, newline = '') as csvfile:\n",
    "    # use the csv reader to parse the file we just opened and store the results in a variable called csvreader\n",
    "    # CSV reader specifies delimiter and variable that holds contents\n",
    "    csvreader = csv.reader(csvfile, delimiter = ',')\n",
    "\n",
    "    # Create a for loop that iterates through each row in the csvreader.\n",
    "    # Read each row of data after the header\n",
    "    for row in csvreader:\n",
    "\n",
    "        # If the first item in the current row matches the random_row we had previously declared, \n",
    "        # (hint: Row items in a csv are all strings.)\n",
    "        if (row[0] == str(random_row)):\n",
    "        \n",
    "            # call on the print_info function with both the row number and phrase of the current row. \n",
    "            # (hint: phrase is the 2nd item in the row)\n",
    "            print_info(row[0], row[1])\n",
    "            \n",
    "            # Also call on the print_prev_info function with prev_row_number and prev_phrase. \n",
    "            print_prev_info(prev_row_number, prev_phrase)\n",
    "            \n",
    "            # Update the found variable to true since we have found a matching row\n",
    "            var = True\n",
    "            \n",
    "        # Define a variables called prev_row_number and set it to the current row number      \n",
    "        # Define a variables called prev_phrase and set it to the current row phrase.\n",
    "        # (Because we're about to move onto the next row in the iteration, \n",
    "        # the current row is going to become the previous row for the next loop)\n",
    "        prev_row_number = row[0]\n",
    "        prev_phrase = row[1]\n",
    "\n",
    "    # Once we have iterated through all the data sets, If the random_row is never found,\n",
    "    # print \"Sorry we couldn't find the row!\" along with the row number we were looking for\n",
    "        if(var == False):\n",
    "            print(\"Sorry we couldn't find the row!\")"
   ]
  }
 ],
 "metadata": {
  "kernelspec": {
   "display_name": "Python 3",
   "language": "python",
   "name": "python3"
  },
  "language_info": {
   "codemirror_mode": {
    "name": "ipython",
    "version": 3
   },
   "file_extension": ".py",
   "mimetype": "text/x-python",
   "name": "python",
   "nbconvert_exporter": "python",
   "pygments_lexer": "ipython3",
   "version": "3.6.5"
  }
 },
 "nbformat": 4,
 "nbformat_minor": 2
}
