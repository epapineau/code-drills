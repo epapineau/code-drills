{
 "cells": [
  {
   "cell_type": "code",
   "execution_count": 1,
   "metadata": {},
   "outputs": [],
   "source": [
    "# Import your dependencies requests and json\n",
    "import requests\n",
    "import json"
   ]
  },
  {
   "cell_type": "code",
   "execution_count": 2,
   "metadata": {},
   "outputs": [],
   "source": [
    "# Create a variable called query_url\n",
    "    # Set it to \"https://deckofcardsapi.com/api/deck/new/shuffle/?deck_count=1\"\n",
    "query_url = \"https://deckofcardsapi.com/api/deck/new/shuffle/?deck_count=1\""
   ]
  },
  {
   "cell_type": "code",
   "execution_count": 4,
   "metadata": {},
   "outputs": [
    {
     "data": {
      "text/plain": [
       "<Response [200]>"
      ]
     },
     "execution_count": 4,
     "metadata": {},
     "output_type": "execute_result"
    }
   ],
   "source": [
    "# Print the response object to the terminal\n",
    "call = requests.get(query_url)\n",
    "call"
   ]
  },
  {
   "cell_type": "code",
   "execution_count": 5,
   "metadata": {},
   "outputs": [
    {
     "data": {
      "text/plain": [
       "{'deck_id': 'k2ir2xjpsqxd', 'shuffled': True, 'remaining': 52, 'success': True}"
      ]
     },
     "execution_count": 5,
     "metadata": {},
     "output_type": "execute_result"
    }
   ],
   "source": [
    "# Convert the data into a json and print\n",
    "call = call.json()\n",
    "call"
   ]
  },
  {
   "cell_type": "code",
   "execution_count": 8,
   "metadata": {},
   "outputs": [
    {
     "name": "stdout",
     "output_type": "stream",
     "text": [
      "{\n",
      "    \"deck_id\": \"k2ir2xjpsqxd\",\n",
      "    \"shuffled\": true,\n",
      "    \"remaining\": 52,\n",
      "    \"success\": true\n",
      "}\n"
     ]
    }
   ],
   "source": [
    "# Print the JSON output in a pretty format.\n",
    "print(json.dumps(call, indent = 4))"
   ]
  },
  {
   "cell_type": "code",
   "execution_count": 11,
   "metadata": {},
   "outputs": [
    {
     "name": "stdout",
     "output_type": "stream",
     "text": [
      "k2ir2xjpsqxd\n",
      "52\n"
     ]
    }
   ],
   "source": [
    "# Print only the deck_id from response.\n",
    "print(call['deck_id'])\n",
    "\n",
    "# Print only the 'remaining' from response.\n",
    "print(call['remaining'])"
   ]
  }
 ],
 "metadata": {
  "kernelspec": {
   "display_name": "Python [default]",
   "language": "python",
   "name": "python3"
  },
  "language_info": {
   "codemirror_mode": {
    "name": "ipython",
    "version": 3
   },
   "file_extension": ".py",
   "mimetype": "text/x-python",
   "name": "python",
   "nbconvert_exporter": "python",
   "pygments_lexer": "ipython3",
   "version": "3.6.6"
  }
 },
 "nbformat": 4,
 "nbformat_minor": 2
}
