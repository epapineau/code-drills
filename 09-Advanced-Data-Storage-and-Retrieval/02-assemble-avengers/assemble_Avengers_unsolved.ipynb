{
 "cells": [
  {
   "cell_type": "code",
   "execution_count": 2,
   "metadata": {},
   "outputs": [],
   "source": [
    "# Define the Avenger class\n",
    "class Avenger():\n",
    "    # Constructor\n",
    "    # --------------------------------------------------------------------------------\n",
    "    # Initialize the Avenger with properties and assign each avenger a new avenger count upon creation\n",
    "    # Each avengeer should keep track of its name, enemy, location, and catchphrase\n",
    "    def __init__ (self, name, enemy, location, catchphrase):\n",
    "        self.name = name\n",
    "        self.enemy = enemy\n",
    "        self.location = location\n",
    "        self.catchphrase = catchphrase\n",
    "    \n",
    "    # Class Methods\n",
    "    # --------------------------------------------------------------------------------\n",
    "    # Method that prints out a simple string \"Avengers Assemble!\"\n",
    "    def assemble(self):\n",
    "        print(\"Avengers Assemble!\")\n",
    "    \n",
    "    # Method that interpolates based on information and prints in a string\n",
    "    # Example: Hey! I'm Spiderman and I'm from New York. I am currently fighting the Green Goblin. Spidey Senses Tingling!\n",
    "    def bio(self):\n",
    "        print(f\"Hey I'm {self.name} and I'm from {self.location}. I am currently fighting {self.enemy}. {self.catchphrase}!\")"
   ]
  },
  {
   "cell_type": "code",
   "execution_count": 7,
   "metadata": {},
   "outputs": [
    {
     "name": "stdout",
     "output_type": "stream",
     "text": [
      "Avengers Assemble!\n",
      "Hey I'm Captain America and I'm from Washington DC. I am currently fighting Arnim Zola. Avengers Assemble!\n"
     ]
    }
   ],
   "source": [
    "# ASSEMBLE AVENGERS!\n",
    "# Create the First Avenger, Captain America and call his methods\n",
    "# For those of you who aren't huge nerds, just pick whatever you want as his enemy, location, and catchphrase!\n",
    "ca = Avenger(\"Captain America\", \"Arnim Zola\", \"Washington DC\",  \"Avengers Assemble\")\n",
    "ca.assemble()\n",
    "ca.bio()"
   ]
  },
  {
   "cell_type": "code",
   "execution_count": 8,
   "metadata": {},
   "outputs": [
    {
     "name": "stdout",
     "output_type": "stream",
     "text": [
      "Avengers Assemble!\n",
      "Hey I'm Thor and I'm from Asgard. I am currently fighting Loki. Odin's beard!\n"
     ]
    }
   ],
   "source": [
    "# Create another Avenger, preferably Thor, but whoever you like. I just like Thor.\n",
    "th = Avenger(\"Thor\", \"Loki\", \"Asgard\",  \"Odin's beard\")\n",
    "th.assemble()\n",
    "th.bio()"
   ]
  },
  {
   "cell_type": "code",
   "execution_count": 9,
   "metadata": {},
   "outputs": [
    {
     "name": "stdout",
     "output_type": "stream",
     "text": [
      "What Avenger are you working with? Thor\n",
      "Who is their enemy? Loki\n",
      "Where do they live? Asgard\n",
      "What is their catchphraseOdin's beard\n",
      "Avengers Assemble!\n",
      "Hey I'm Thor and I'm from Asgard. I am currently fighting Loki. Odin's beard!\n",
      "Would you like to add another Avenger? Y/N Y\n",
      "What Avenger are you working with? Captain America\n",
      "Who is their enemy? Arnim Zola\n",
      "Where do they live? Washington DC\n",
      "What is their catchphraseAvengers Assemble\n",
      "Avengers Assemble!\n",
      "Hey I'm Captain America and I'm from Washington DC. I am currently fighting Arnim Zola. Avengers Assemble!\n",
      "Would you like to add another Avenger? Y/N N\n"
     ]
    }
   ],
   "source": [
    "# Create a for loop for user input that creates new Avenger\n",
    "# Variable to keep track of changes to while loop\n",
    "go = True\n",
    "# While loop to runs\n",
    "while(go == True):\n",
    "  # Ask for user input and store answers within variables\n",
    "    name = input(\"What Avenger are you working with? \")\n",
    "    enemy = input(\"Who is their enemy? \")\n",
    "    location = input(\"Where do they live? \")\n",
    "    catchphrase = input(\"What is their catchphrase\")\n",
    "    \n",
    "  # Create a new instance of the Avenger class using these values\n",
    "    avenge = Avenger(name, enemy, location, catchphrase)\n",
    "    \n",
    "  # Call the Avenger's methods\n",
    "    avenge.assemble()\n",
    "    avenge.bio()\n",
    "    \n",
    "  # Check to see if the user would like to continue\n",
    "    cont = input(\"Would you like to add another Avenger? Y/N \")\n",
    "    if(cont == \"N\"):\n",
    "        go = False"
   ]
  }
 ],
 "metadata": {
  "kernelspec": {
   "display_name": "Python [default]",
   "language": "python",
   "name": "python3"
  },
  "language_info": {
   "codemirror_mode": {
    "name": "ipython",
    "version": 3
   },
   "file_extension": ".py",
   "mimetype": "text/x-python",
   "name": "python",
   "nbconvert_exporter": "python",
   "pygments_lexer": "ipython3",
   "version": "3.6.6"
  }
 },
 "nbformat": 4,
 "nbformat_minor": 2
}
