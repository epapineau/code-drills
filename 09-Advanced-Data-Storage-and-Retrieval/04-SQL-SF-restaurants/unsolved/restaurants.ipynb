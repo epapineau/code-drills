{
 "cells": [
  {
   "cell_type": "code",
   "execution_count": 1,
   "metadata": {},
   "outputs": [],
   "source": [
    "from sqlalchemy import create_engine\n",
    "import pymysql\n",
    "pymysql.install_as_MySQLdb()\n",
    "\n",
    "from sqlalchemy.ext.declarative import declarative_base\n",
    "Base = declarative_base()\n",
    "from sqlalchemy import Column, Integer, String, Float\n",
    "\n",
    "from config import dbuser, dbpasswd, dburi, dbport, dbname"
   ]
  },
  {
   "cell_type": "code",
   "execution_count": 2,
   "metadata": {},
   "outputs": [],
   "source": [
    "from sqlalchemy import create_engine\n",
    "engine = create_engine(f\"mysql://{dbuser}:{dbpasswd}@{dburi}/{dbname}\")\n",
    "Base.metadata.create_all(engine)"
   ]
  },
  {
   "cell_type": "code",
   "execution_count": 3,
   "metadata": {},
   "outputs": [],
   "source": [
    "from sqlalchemy.orm import Session\n",
    "session = Session(bind = engine)"
   ]
  },
  {
   "cell_type": "code",
   "execution_count": 4,
   "metadata": {},
   "outputs": [],
   "source": [
    "# create your Restaurants class\n",
    "class RestaurantsClass(Base):\n",
    "    __tablename__ = \"restaurants\"\n",
    "    business_id = Column(Integer, primary_key=True)\n",
    "    business_name = Column(String)\n",
    "    business_address = Column(String)\n",
    "    business_postal_code = Column(Integer)\n",
    "    inspection_score = Column(Integer)\n",
    "    violation_description = Column(String)\n",
    "    risk_category = Column(String)"
   ]
  },
  {
   "cell_type": "code",
   "execution_count": 24,
   "metadata": {},
   "outputs": [
    {
     "name": "stdout",
     "output_type": "stream",
     "text": [
      "170 O'Farrell St Basement\n",
      "495A CASTRO St\n",
      "570 Powell St\n",
      "0530 BALBOA St\n",
      "345 Stockton St Flr 3B\n",
      "170 O'Farrell St 8th Floor\n",
      "22 Peace Plaza  #505\n",
      "737 DIAMOND St\n",
      "1515 SLOAT Blvd\n",
      "625  DOUGLASS St\n",
      "460 Arguello Blvd\n",
      "641 Broadway St\n",
      "741 Diamond St\n",
      "1 Ferry Building  #28\n",
      "2340 Jackson St\n",
      "18 Ocean Ave.\n",
      "349 Clement St.\n",
      "1300 CASTRO St\n",
      "3901 Noriega Street\n",
      "500 Eddy St\n",
      "1682 Post St\n",
      "1704 Post St\n",
      "170 O'Farrell St Lower Level\n",
      "499 Eddy St\n",
      "0427 CASTRO St\n",
      "1708 Haight St\n",
      "2990 MISSION St\n",
      "345 Stockton St Flr 2B\n",
      "425 Battery St\n",
      "170 O'Farrell St Basement\n",
      "333 Battery St Level A & B\n",
      "333 Battery St Level 2 & 3\n",
      "564 Market St #140\n"
     ]
    }
   ],
   "source": [
    "# print all locations of restaurants\n",
    "restaurant = session.query(RestaurantsClass)\n",
    "for row in restaurant:\n",
    "    print(row.business_address)"
   ]
  },
  {
   "cell_type": "code",
   "execution_count": 18,
   "metadata": {},
   "outputs": [
    {
     "data": {
      "text/plain": [
       "33"
      ]
     },
     "execution_count": 18,
     "metadata": {},
     "output_type": "execute_result"
    }
   ],
   "source": [
    "# find the total number of restaurants inside of this database\n",
    "rest_count = session.query(RestaurantsClass.business_name).distinct(RestaurantsClass.business_name).count()\n",
    "rest_count"
   ]
  },
  {
   "cell_type": "code",
   "execution_count": 20,
   "metadata": {},
   "outputs": [
    {
     "data": {
      "text/plain": [
       "7"
      ]
     },
     "execution_count": 20,
     "metadata": {},
     "output_type": "execute_result"
    }
   ],
   "source": [
    "# find the total number of restaurants that are considered 'high risk'\n",
    "risk_count = session.query(RestaurantsClass.risk_category).\\\n",
    "    filter(RestaurantsClass.risk_category == \"High Risk\").count()\n",
    "risk_count"
   ]
  },
  {
   "cell_type": "code",
   "execution_count": 26,
   "metadata": {},
   "outputs": [
    {
     "name": "stdout",
     "output_type": "stream",
     "text": [
      "Stone House Calif Olive Oil\n",
      "Starbucks Coffee (Store #9743)\n",
      "Le Meridien SF Main Kitchen/Employee Cafeteria\n",
      "Le Meridien SF Park Grill Restaurant & Bar\n"
     ]
    }
   ],
   "source": [
    "# find and print the names of restaurants with the zip code 94111\n",
    "rest_94111 = session.query(RestaurantsClass).\\\n",
    "    filter(RestaurantsClass.business_postal_code == 94111)\n",
    "for rest in rest_94111:\n",
    "    print(rest.business_name)"
   ]
  },
  {
   "cell_type": "code",
   "execution_count": 27,
   "metadata": {},
   "outputs": [
    {
     "name": "stdout",
     "output_type": "stream",
     "text": [
      "0530 BALBOA St\n",
      "641 Broadway St\n"
     ]
    }
   ],
   "source": [
    "# find and print the addresses of all restaurants with a inspection score less than 80\n",
    "below80 = session.query(RestaurantsClass).\\\n",
    "    filter(RestaurantsClass.inspection_score < 80)\n",
    "for rest in below80:\n",
    "    print(rest.business_address)"
   ]
  },
  {
   "cell_type": "code",
   "execution_count": 29,
   "metadata": {},
   "outputs": [
    {
     "name": "stdout",
     "output_type": "stream",
     "text": [
      "EMPEROR PALACE RESTAURANT at 0530 BALBOA St\n",
      "ABC Super Market Inc at 641 Broadway St\n",
      "PastaGina at 741 Diamond St\n"
     ]
    }
   ],
   "source": [
    "# find and print all restaurant names and their address where there is a high risk of vermin\n",
    "high_vermin = session.query(RestaurantsClass).\\\n",
    "    filter(RestaurantsClass.violation_description == \"High risk vermin infestation\")\n",
    "for rest in high_vermin:\n",
    "    print(f\"{rest.business_name} at {rest.business_address}\")"
   ]
  },
  {
   "cell_type": "code",
   "execution_count": 30,
   "metadata": {
    "scrolled": true
   },
   "outputs": [
    {
     "name": "stdout",
     "output_type": "stream",
     "text": [
      "The Posh Bagel received a score of 94\n",
      "Roxanne Cafe received a score of 86\n",
      "EMPEROR PALACE RESTAURANT received a score of 78\n",
      "Hyatt Union Square Main Kitchen received a score of 96\n",
      "Takara Restaurant received a score of 80\n",
      "RICE GARDEN received a score of 92\n",
      "ALVARADO ELEMENTARY SCHOOL received a score of 94\n",
      "ABC Super Market Inc received a score of 73\n",
      "San Francisco Public Montessori received a score of 94\n",
      "Deli World received a score of 88\n",
      "New Princess Market received a score of 84\n",
      "New San Wang Restaurant received a score of 85\n",
      "Pagoda received a score of 96\n",
      "Cadillac Market received a score of 84\n",
      "Castro Coffee Company received a score of 96\n",
      "Cantata Coffee Shop received a score of 94\n",
      "Samiramis Imports received a score of 90\n"
     ]
    }
   ],
   "source": [
    "# find and print the name and inspection scores of all restaurants considered 'moderate risk'\n",
    "moderate_risk = session.query(RestaurantsClass).\\\n",
    "    filter(RestaurantsClass.risk_category == \"Moderate Risk\")\n",
    "for rest in moderate_risk:\n",
    "    print(f\"{rest.business_name} received a score of {rest.inspection_score}\")"
   ]
  },
  {
   "cell_type": "code",
   "execution_count": 31,
   "metadata": {},
   "outputs": [
    {
     "name": "stdout",
     "output_type": "stream",
     "text": [
      "Ben & Jerry's had Improper food labeling or menu misrepresentation\n",
      "The Posh Bagel had Food safety certificate or food handler card not available\n",
      "Roxanne Cafe had Unclean nonfood contact surfaces\n",
      "Mixed Greens Prep Kitchen had Unclean nonfood contact surfaces\n",
      "Bacco had Improper food storage\n",
      "ALVARADO ELEMENTARY SCHOOL had Low risk vermin infestation\n",
      "Theodore Roosevelt Middle School had Low risk vermin infestation\n",
      "San Francisco Public Montessori had Improper storage of equipment utensils or linens\n",
      "Deli World had Unapproved or unmaintained equipment or utensils\n",
      "Kitchen Istanbal had Unclean or degraded floors walls or ceilings\n",
      "Subs, Inc. had Unclean or degraded floors walls or ceilings\n",
      "The Pizza Place had Unclean or degraded floors walls or ceilings\n",
      "Tortilla Kitchen had Improper storage of equipment utensils or linens\n",
      "Cantata Coffee Shop had Unapproved or unmaintained equipment or utensils\n",
      "Samiramis Imports had Foods not protected from contamination\n"
     ]
    }
   ],
   "source": [
    "# find and print the name and violation description of all restaurants \n",
    "# with an inspection score higher than 85, and considered a 'low risk'\n",
    "low_risk = session.query(RestaurantsClass).\\\n",
    "    filter(RestaurantsClass.risk_category == \"Low Risk\").\\\n",
    "    filter(RestaurantsClass.inspection_score > 85)\n",
    "for rest in low_risk:\n",
    "    print(f\"{rest.business_name} had {rest.violation_description}\")"
   ]
  }
 ],
 "metadata": {
  "kernelspec": {
   "display_name": "Python [conda env:PythonData]",
   "language": "python",
   "name": "conda-env-PythonData-py"
  },
  "language_info": {
   "codemirror_mode": {
    "name": "ipython",
    "version": 3
   },
   "file_extension": ".py",
   "mimetype": "text/x-python",
   "name": "python",
   "nbconvert_exporter": "python",
   "pygments_lexer": "ipython3",
   "version": "3.6.6"
  }
 },
 "nbformat": 4,
 "nbformat_minor": 2
}
