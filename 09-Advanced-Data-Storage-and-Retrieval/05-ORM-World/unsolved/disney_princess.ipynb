{
 "cells": [
  {
   "cell_type": "code",
   "execution_count": 1,
   "metadata": {},
   "outputs": [],
   "source": [
    "# Import SQL Alchemy\n",
    "from sqlalchemy import create_engine\n",
    "\n",
    "# Import and establish Base for which classes will be constructed \n",
    "from sqlalchemy.ext.declarative import declarative_base\n",
    "Base = declarative_base()\n",
    "\n",
    "# Import modules to declare columns and column data types\n",
    "from sqlalchemy import Column, Integer, String, Float"
   ]
  },
  {
   "cell_type": "code",
   "execution_count": 2,
   "metadata": {},
   "outputs": [],
   "source": [
    "# Create a Princess class\n",
    "class Princess(Base):\n",
    "    __tablename__ = \"disney_princesses\"\n",
    "    id = Column(Integer, primary_key = True, autoincrement = True)\n",
    "    name = Column(String)\n",
    "    sidekick = Column(String)\n",
    "    coolness = Column(Float)"
   ]
  },
  {
   "cell_type": "code",
   "execution_count": 3,
   "metadata": {},
   "outputs": [],
   "source": [
    "# Create a connection to a SQLite database\n",
    "engine = create_engine('sqlite:///Princess.sqlite')"
   ]
  },
  {
   "cell_type": "code",
   "execution_count": 4,
   "metadata": {},
   "outputs": [],
   "source": [
    "# Create the disney_princesses table within the database\n",
    "Base.metadata.create_all(engine)"
   ]
  },
  {
   "cell_type": "code",
   "execution_count": 5,
   "metadata": {},
   "outputs": [],
   "source": [
    "# To push the objects made and query the server we use a Session object\n",
    "from sqlalchemy.orm import Session\n",
    "session = Session(bind = engine)"
   ]
  },
  {
   "cell_type": "code",
   "execution_count": 6,
   "metadata": {},
   "outputs": [],
   "source": [
    "# Create at least 3 instances of the Princess class & Add these objects to the session\n",
    "session.add(Princess(name = \"Jasmin\", sidekick = \"tiger\", coolness = 75))\n",
    "session.add(Princess(name = \"Ariel\", sidekick = \"lobster\", coolness = 100))\n",
    "session.add(Princess(name = \"Pocahontas\", sidekick = \"racoon\", coolness = 98))"
   ]
  },
  {
   "cell_type": "code",
   "execution_count": 9,
   "metadata": {},
   "outputs": [
    {
     "data": {
      "text/plain": [
       "[(1, 'Jasmin', 'tiger', 75.0),\n",
       " (2, 'Ariel', 'lobster', 100.0),\n",
       " (3, 'Pocahontas', 'racoon', 98.0)]"
      ]
     },
     "execution_count": 9,
     "metadata": {},
     "output_type": "execute_result"
    }
   ],
   "source": [
    "# Commit the objects to the database\n",
    "session.commit()\n",
    "engine.execute('SELECT * FROM disney_princesses').fetchall()"
   ]
  },
  {
   "cell_type": "code",
   "execution_count": 24,
   "metadata": {},
   "outputs": [
    {
     "data": {
      "text/plain": [
       "[(1, 'Jasmin', 'tiger', 75.0),\n",
       " (2, 'Ariel', 'flounder', 100.0),\n",
       " (3, 'Pocahontas', 'racoon', 100.0)]"
      ]
     },
     "execution_count": 24,
     "metadata": {},
     "output_type": "execute_result"
    }
   ],
   "source": [
    "# Update the data so that character's coolness is now 100 and change another's sidekick\n",
    "ariel = session.query(Princess).filter(Princess.name ==\"Ariel\").first()\n",
    "ariel.sidekick = \"flounder\"\n",
    "\n",
    "pocahontas = session.query(Princess).filter(Princess.name ==\"Pocahontas\").first()\n",
    "pocahontas.coolness = 100\n",
    "\n",
    "# Commit the updates to the database\n",
    "session.commit()\n",
    "engine.execute('SELECT * FROM disney_princesses').fetchall()"
   ]
  },
  {
   "cell_type": "code",
   "execution_count": 27,
   "metadata": {},
   "outputs": [
    {
     "data": {
      "text/plain": [
       "[(2, 'Ariel', 'flounder', 100.0), (3, 'Pocahontas', 'racoon', 100.0)]"
      ]
     },
     "execution_count": 27,
     "metadata": {},
     "output_type": "execute_result"
    }
   ],
   "source": [
    "# Delete the row with the lowest coolness\n",
    "uncool = session.query(Princess).filter_by(coolness = 75.0).delete()\n",
    "\n",
    "# Commit the delete to the database\n",
    "session.commit()\n",
    "engine.execute('SELECT * FROM disney_princesses').fetchall()"
   ]
  },
  {
   "cell_type": "code",
   "execution_count": 28,
   "metadata": {},
   "outputs": [
    {
     "data": {
      "text/plain": [
       "[(2, 'Ariel', 'flounder', 100.0), (3, 'Pocahontas', 'racoon', 100.0)]"
      ]
     },
     "execution_count": 28,
     "metadata": {},
     "output_type": "execute_result"
    }
   ],
   "source": [
    "# Collect all of the items and print their information\n",
    "engine.execute('SELECT * FROM disney_princesses').fetchall()"
   ]
  }
 ],
 "metadata": {
  "kernelspec": {
   "display_name": "Python [conda env:PythonData]",
   "language": "python",
   "name": "conda-env-PythonData-py"
  },
  "language_info": {
   "codemirror_mode": {
    "name": "ipython",
    "version": 3
   },
   "file_extension": ".py",
   "mimetype": "text/x-python",
   "name": "python",
   "nbconvert_exporter": "python",
   "pygments_lexer": "ipython3",
   "version": "3.6.6"
  }
 },
 "nbformat": 4,
 "nbformat_minor": 2
}
