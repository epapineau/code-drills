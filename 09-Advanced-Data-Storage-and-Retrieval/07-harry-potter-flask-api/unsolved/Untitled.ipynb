{
 "cells": [
  {
   "cell_type": "code",
   "execution_count": 1,
   "metadata": {},
   "outputs": [],
   "source": [
    "hogwarts_students = [\n",
    "    {\"student\": \"Harry Potter\", \"house\": \"Gryffindor\"},\n",
    "    {\"student\": \"Ron Weasley\", \"house\": \"Gryffindor\"},\n",
    "    {\"student\": \"Hermione Granger\", \"house\": \"Gryffindor\"},\n",
    "    {\"student\": \"Draco Malfoy\", \"house\": \"Slytherin\"},\n",
    "    {\"student\": \"Luna Lovegood\", \"house\": \"Ravenclaw\"},\n",
    "    {\"student\": \"Neville Longbottom\", \"house\": \"Gryffndor\"},\n",
    "    {\"student\": \"Cho Chang\", \"house\": \"Ravenclaw\"}\n",
    "]"
   ]
  },
  {
   "cell_type": "code",
   "execution_count": 2,
   "metadata": {},
   "outputs": [],
   "source": [
    "house_name = \"Gryffindor\""
   ]
  },
  {
   "cell_type": "code",
   "execution_count": 4,
   "metadata": {},
   "outputs": [
    {
     "name": "stdout",
     "output_type": "stream",
     "text": [
      "Harry Potter\n",
      "Ron Weasley\n",
      "Hermione Granger\n",
      "jsonify({\"error\": f\"{house_name} is not a Hogwarts house.\"}), 404\n",
      "jsonify(in_house)\n",
      "jsonify({\"error\": f\"{house_name} is not a Hogwarts house.\"}), 404\n",
      "jsonify(in_house)\n",
      "jsonify({\"error\": f\"{house_name} is not a Hogwarts house.\"}), 404\n",
      "jsonify(in_house)\n",
      "jsonify({\"error\": f\"{house_name} is not a Hogwarts house.\"}), 404\n",
      "jsonify(in_house)\n"
     ]
    }
   ],
   "source": [
    "house_name = house_name.replace(\" \", \"\").lower()\n",
    "in_house = []\n",
    "for stu in hogwarts_students:\n",
    "    search_term = stu[\"house\"].replace(\" \", \"\").lower()\n",
    "\n",
    "    if search_term == house_name:\n",
    "        in_house.append(stu['student'])\n",
    "        print(stu['student'])\n",
    "    else:\n",
    "        print('jsonify({\"error\": f\"{house_name} is not a Hogwarts house.\"}), 404')\n",
    "\n",
    "\n",
    "#     return jsonify(in_house)\n",
    "        print('jsonify(in_house)')"
   ]
  },
  {
   "cell_type": "code",
   "execution_count": 6,
   "metadata": {},
   "outputs": [
    {
     "data": {
      "text/plain": [
       "3"
      ]
     },
     "execution_count": 6,
     "metadata": {},
     "output_type": "execute_result"
    }
   ],
   "source": []
  }
 ],
 "metadata": {
  "kernelspec": {
   "display_name": "Python [conda env:PythonData]",
   "language": "python",
   "name": "conda-env-PythonData-py"
  },
  "language_info": {
   "codemirror_mode": {
    "name": "ipython",
    "version": 3
   },
   "file_extension": ".py",
   "mimetype": "text/x-python",
   "name": "python",
   "nbconvert_exporter": "python",
   "pygments_lexer": "ipython3",
   "version": "3.6.6"
  }
 },
 "nbformat": 4,
 "nbformat_minor": 2
}
