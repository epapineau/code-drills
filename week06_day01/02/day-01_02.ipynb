{
 "cells": [
  {
   "cell_type": "code",
   "execution_count": 1,
   "metadata": {},
   "outputs": [],
   "source": [
    "# Import your dependencies requests and json\n",
    "import requests\n",
    "import json"
   ]
  },
  {
   "cell_type": "code",
   "execution_count": 2,
   "metadata": {},
   "outputs": [
    {
     "name": "stdout",
     "output_type": "stream",
     "text": [
      "What type of breed? corgi\n"
     ]
    }
   ],
   "source": [
    "# Create a variable called dog_search\n",
    "    # Request for user input with the question \"What type of breed?\"\n",
    "        # Example \"husky\" as an input\n",
    "dog_search = input(\"What type of breed? \")    "
   ]
  },
  {
   "cell_type": "code",
   "execution_count": 3,
   "metadata": {},
   "outputs": [],
   "source": [
    "# Create a variable called query_url\n",
    "    # Add dog_search to the middle of the two strings below \n",
    "    # \"https://dog.ceo/api/breed/\" and \"/images/random\" \n",
    "query_url = f\"https://dog.ceo/api/breed/{dog_search}/images/random\""
   ]
  },
  {
   "cell_type": "code",
   "execution_count": 4,
   "metadata": {},
   "outputs": [
    {
     "name": "stdout",
     "output_type": "stream",
     "text": [
      "https://dog.ceo/api/breed/corgi/images/random\n"
     ]
    }
   ],
   "source": [
    "# Print the query_url\n",
    "print(query_url)"
   ]
  },
  {
   "cell_type": "code",
   "execution_count": 5,
   "metadata": {},
   "outputs": [
    {
     "name": "stdout",
     "output_type": "stream",
     "text": [
      "{\n",
      "    \"status\": \"success\",\n",
      "    \"message\": \"https://images.dog.ceo/breeds/corgi-cardigan/n02113186_3457.jpg\"\n",
      "}\n"
     ]
    }
   ],
   "source": [
    "# Set the variable 'response' to the data from query_url as a json format\n",
    "response = requests.get(query_url).json()\n",
    "\n",
    "# Print a pretty formatted json.\n",
    "print(json.dumps(response, indent = 4))"
   ]
  },
  {
   "cell_type": "code",
   "execution_count": 6,
   "metadata": {},
   "outputs": [
    {
     "data": {
      "text/plain": [
       "'https://images.dog.ceo/breeds/corgi-cardigan/n02113186_3457.jpg'"
      ]
     },
     "execution_count": 6,
     "metadata": {},
     "output_type": "execute_result"
    }
   ],
   "source": [
    "# Print only the dog image url from the json response\n",
    "response['message']"
   ]
  }
 ],
 "metadata": {
  "kernelspec": {
   "display_name": "Python [default]",
   "language": "python",
   "name": "python3"
  },
  "language_info": {
   "codemirror_mode": {
    "name": "ipython",
    "version": 3
   },
   "file_extension": ".py",
   "mimetype": "text/x-python",
   "name": "python",
   "nbconvert_exporter": "python",
   "pygments_lexer": "ipython3",
   "version": "3.6.6"
  }
 },
 "nbformat": 4,
 "nbformat_minor": 2
}
